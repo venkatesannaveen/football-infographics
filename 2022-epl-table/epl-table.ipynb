{
 "cells": [
  {
   "cell_type": "code",
   "execution_count": null,
   "id": "da3670aa-b664-47fd-a7da-99fbbb4a7596",
   "metadata": {},
   "outputs": [],
   "source": [
    "# import packages\n",
    "import requests\n",
    "import json\n",
    "from bs4 import BeautifulSoup\n",
    "import pandas as pd\n",
    "from collections import defaultdict\n",
    "import numpy as np\n",
    "\n",
    "# plotting libraries\n",
    "import matplotlib.pyplot as plt\n",
    "from matplotlib.patches import Rectangle\n",
    "import plotly.graph_objects as go"
   ]
  },
  {
   "cell_type": "code",
   "execution_count": null,
   "id": "9ea4c425-d9c6-410d-b9e2-d4f48f4092a6",
   "metadata": {},
   "outputs": [],
   "source": [
    "base_url = \"https://understat.com/league/EPL\""
   ]
  },
  {
   "cell_type": "code",
   "execution_count": null,
   "id": "e9ec2cd0-d834-427b-abf0-37d248f4570c",
   "metadata": {},
   "outputs": [],
   "source": [
    "res = requests.get(base_url)\n",
    "matches = BeautifulSoup(res.content, \"lxml\")"
   ]
  },
  {
   "cell_type": "code",
   "execution_count": null,
   "id": "7fb2e5c8-ec04-480b-8d1a-e25c198b77d4",
   "metadata": {},
   "outputs": [],
   "source": [
    "matches = matches.find_all(\"script\")"
   ]
  },
  {
   "cell_type": "code",
   "execution_count": null,
   "id": "f5f8523c-29d4-48d3-8765-708bb74fdc3a",
   "metadata": {},
   "outputs": [],
   "source": [
    "matches = matches[1].string"
   ]
  },
  {
   "cell_type": "code",
   "execution_count": null,
   "id": "ce8c7cb0-3562-47d2-ab85-71646d06b92e",
   "metadata": {},
   "outputs": [],
   "source": [
    "start = matches.index(\"(\") + 2\n",
    "end = matches.index(\")\")\n",
    "\n",
    "matches = matches[start:end]"
   ]
  },
  {
   "cell_type": "code",
   "execution_count": null,
   "id": "583cfdeb-0bd2-4ec7-b5e7-5e3df4ed7c3c",
   "metadata": {},
   "outputs": [],
   "source": [
    "json_data = matches.encode(\"utf8\").decode(\"unicode_escape\")\n",
    "json_data = json.loads(json_data[:-1])"
   ]
  },
  {
   "cell_type": "code",
   "execution_count": null,
   "id": "c95a5539-b028-4c50-abe0-11c48e354b8e",
   "metadata": {},
   "outputs": [],
   "source": [
    "json_data[0]"
   ]
  },
  {
   "cell_type": "code",
   "execution_count": null,
   "id": "e5965e02-27ee-4cd4-8c13-667a0663e797",
   "metadata": {},
   "outputs": [],
   "source": [
    "weekly_table = defaultdict(list)\n",
    "\n",
    "for match in json_data:\n",
    "    if not match[\"isResult\"]:\n",
    "        continue\n",
    "    if match[\"goals\"][\"h\"] > match[\"goals\"][\"a\"]:\n",
    "        pts_h = 3\n",
    "        pts_a = 0\n",
    "    elif match[\"goals\"][\"h\"] < match[\"goals\"][\"a\"]:\n",
    "        pts_h = 0\n",
    "        pts_a = 3\n",
    "    else:\n",
    "        pts_h = 1\n",
    "        pts_a = 1\n",
    "    \n",
    "    weekly_table[match[\"h\"][\"title\"]].append(pts_h)\n",
    "    weekly_table[match[\"a\"][\"title\"]].append(pts_a)"
   ]
  },
  {
   "cell_type": "code",
   "execution_count": null,
   "id": "5d425c3f-fa2b-4742-8519-40636523ac75",
   "metadata": {},
   "outputs": [],
   "source": [
    "cumulative_table = defaultdict(list)\n",
    "\n",
    "for team, weeks in weekly_table.items():\n",
    "    curr_table = []\n",
    "    j = 0\n",
    "    for wk in weeks:\n",
    "        j += wk\n",
    "        curr_table.append(j)\n",
    "    cumulative_table[team] = curr_table"
   ]
  },
  {
   "cell_type": "code",
   "execution_count": null,
   "id": "1feee609-d3eb-47af-ba43-37375854ad09",
   "metadata": {},
   "outputs": [],
   "source": [
    "team_colors = {\n",
    "    \"Arsenal\": \"#EF0107\",\n",
    "    \"Aston Villa\": \"#95BFE5\",\n",
    "    \"Brentford\": \"#E30613\",\n",
    "    \"Brighton\": \"#0057B8\",\n",
    "    \"Burnley\": \"#6C1D45\",\n",
    "    \"Chelsea\": \"#034694\",\n",
    "    \"Crystal Palace\": \"#1B458F\",\n",
    "    \"Everton\": \"#003399\",\n",
    "    \"Leeds\": \"#1D428A\",\n",
    "    \"Leicester\": \"#003090\",\n",
    "    \"Liverpool\": \"#C8102E\",\n",
    "    \"Manchester City\": \"#6CABDD\",\n",
    "    \"Manchester United\": \"#DA291C\",\n",
    "    \"Newcastle United\": \"#241F20\",\n",
    "    \"Norwich\": \"#00A650\",\n",
    "    \"Southampton\": \"#D71920\",\n",
    "    \"Tottenham\": \"#132257\",\n",
    "    \"Watford\": \"#11210C\",\n",
    "    \"West Ham\": \"#7A263A\",\n",
    "    \"Wolverhampton Wanderers\": \"#231F20\"\n",
    "}"
   ]
  },
  {
   "cell_type": "code",
   "execution_count": null,
   "id": "0dd5286e-f893-416e-85a8-a116b3bb4043",
   "metadata": {},
   "outputs": [],
   "source": [
    "league_order = [\n",
    "    \"Manchester City\",\n",
    "    \"Liverpool\",\n",
    "    \"Chelsea\",\n",
    "    \"Tottenham\",\n",
    "    \"Arsenal\",\n",
    "    \"Manchester United\",\n",
    "    \"West Ham\",\n",
    "    \"Leicester\",\n",
    "    \"Brighton\",\n",
    "    \"Wolverhampton Wanderers\",\n",
    "    \"Newcastle United\",\n",
    "    \"Crystal Palace\",\n",
    "    \"Brentford\",\n",
    "    \"Aston Villa\",\n",
    "    \"Southampton\",\n",
    "    \"Everton\",\n",
    "    \"Leeds\",\n",
    "    \"Burnley\",\n",
    "    \"Watford\",\n",
    "    \"Norwich\"\n",
    "]"
   ]
  },
  {
   "cell_type": "code",
   "execution_count": null,
   "id": "fbe9b2e2-bc4f-4f4d-b4ca-edc343ad79c4",
   "metadata": {},
   "outputs": [],
   "source": [
    "plt.rcParams[\"font.family\"] = \"Larsseit\"\n",
    "plt.rcParams[\"font.size\"] = 18\n",
    "\n",
    "fig = plt.figure(figsize=(15, 15))\n",
    "ax = fig.add_subplot(111, frameon=False)\n",
    "\n",
    "min_pts = cumulative_table[league_order[-1]][-1]\n",
    "max_pts = cumulative_table[league_order[0]][-1]\n",
    "\n",
    "i = 20\n",
    "for team in league_order:\n",
    "    cum_pts = cumulative_table[team]\n",
    "    ax.plot([i for i in range(1, len(cum_pts) + 1)], cum_pts, lw=10, color=team_colors[team], alpha=0.2)\n",
    "    ax.plot([i for i in range(1, len(cum_pts) + 1)], cum_pts, lw=2, marker=\"o\", color=team_colors[team])\n",
    "    ax.text(38, min_pts + i * (max_pts - min_pts) / 20, team, ha=\"left\", va=\"center\")\n",
    "    i -= 1\n",
    "    \n",
    "# axis limits    \n",
    "plt.show()"
   ]
  },
  {
   "cell_type": "code",
   "execution_count": null,
   "id": "506e868a-5fc0-4816-bd1d-f8b2dcbd30a4",
   "metadata": {},
   "outputs": [],
   "source": [
    "plt.rcParams[\"font.family\"] = \"Fantasque Sans Mono\"\n",
    "plt.rcParams[\"font.size\"] = 18\n",
    "\n",
    "fig = plt.figure(figsize=(16, 16), facecolor=\"#F9F9EB\")\n",
    "ax = fig.add_subplot(111, frameon=False)\n",
    "\n",
    "min_pts = cumulative_table[league_order[-1]][-1]\n",
    "max_pts = cumulative_table[league_order[0]][-1]\n",
    "\n",
    "# champions league\n",
    "rect_ucl = Rectangle((0.7, 20.25), 11.5, 4.5, color=\"forestgreen\", alpha=0.1)\n",
    "ax.add_artist(rect_ucl)\n",
    "ax.text(13, 22.5, \"Champions League\", ha=\"left\", va=\"center\", fontweight=\"bold\")\n",
    "\n",
    "# europa league\n",
    "rect_uel = Rectangle((0.7, 17.25), 12.5, 2.5, color=\"slateblue\", alpha=0.1)\n",
    "ax.add_artist(rect_uel)\n",
    "ax.text(14, 18.5, \"Europa League\", ha=\"left\", va=\"center\", fontweight=\"bold\")\n",
    "\n",
    "# europa conference league\n",
    "rect_uecl = Rectangle((0.7, 15.25), 8.5, 1.5, color=\"maroon\", alpha=0.1)\n",
    "ax.add_artist(rect_uecl)\n",
    "ax.text(10, 16, \"Europa Conference League\", ha=\"left\", va=\"center\", fontweight=\"bold\")\n",
    "\n",
    "# relegation zone\n",
    "rect_rel = Rectangle((0.7, 0.25), 8, 3.5, color=\"red\", alpha=0.1)\n",
    "ax.add_artist(rect_rel)\n",
    "ax.text(9.5, 2, \"Relegation Zone\", ha=\"left\", va=\"center\", fontweight=\"bold\")\n",
    "\n",
    "r = 1\n",
    "for i, team in enumerate(league_order[::-1]):\n",
    "    if i in [3, 13, 14, 16]:\n",
    "        r += 1\n",
    "    pts = cumulative_table[team]\n",
    "    theta = np.linspace(np.pi / 2, (pts[-1] / max_pts) * (270 * np.pi / 180) + np.pi / 2, 1000)\n",
    "    ax.plot(r * np.cos(theta), r * np.sin(theta), lw=10, color=team_colors[team], alpha=0.2)\n",
    "    ax.plot(r * np.cos(theta), r * np.sin(theta), lw=4, color=team_colors[team])\n",
    "    ax.text(r * np.cos(theta[0]) + 1, r * np.sin(theta[0]), f\"{team} - {pts[-1]} pts\", ha=\"left\", va=\"center\", size=15, color=team_colors[team])\n",
    "    r += 1\n",
    "    \n",
    "# tick marks\n",
    "ax.set(xticks=[], yticks=[])\n",
    "\n",
    "# add title\n",
    "ax.text(0, 1, \"English Premier League Table\", transform=ax.transAxes, ha=\"left\", va=\"top\", size=24, fontweight=\"bold\")\n",
    "ax.text(0, 0.97, \"2021-22 SEASON\", transform=ax.transAxes, ha=\"left\", va=\"top\", size=22, color=\"gray\")\n",
    "\n",
    "# add reference\n",
    "ax.text(\n",
    "    0,\n",
    "    0,\n",
    "    \"Source: Understat\",\n",
    "    transform=ax.transAxes,\n",
    "    ha=\"left\",\n",
    "    va=\"bottom\",\n",
    "    size=15\n",
    ")\n",
    "ax.text(\n",
    "    1,\n",
    "    0,\n",
    "    \"@naveenv_92\",\n",
    "    transform=ax.transAxes,\n",
    "    ha=\"right\",\n",
    "    va=\"bottom\",\n",
    "    size=15\n",
    ")\n",
    "\n",
    "plt.savefig(\"epl-table.png\", dpi=500, bbox_inches=\"tight\")\n",
    "plt.show()"
   ]
  }
 ],
 "metadata": {
  "kernelspec": {
   "display_name": "Python 3",
   "language": "python",
   "name": "python3"
  },
  "language_info": {
   "codemirror_mode": {
    "name": "ipython",
    "version": 3
   },
   "file_extension": ".py",
   "mimetype": "text/x-python",
   "name": "python",
   "nbconvert_exporter": "python",
   "pygments_lexer": "ipython3",
   "version": "3.7.13"
  }
 },
 "nbformat": 4,
 "nbformat_minor": 5
}
